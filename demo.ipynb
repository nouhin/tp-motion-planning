{
 "cells": [
  {
   "cell_type": "markdown",
   "metadata": {},
   "source": [
    "# Rapport du TP Motion Planning\n",
    "\n",
    "\n",
    "AJMI Nohayla"
   ]
  },
  {
   "cell_type": "code",
   "execution_count": null,
   "metadata": {},
   "outputs": [],
   "source": [
    "from part1 import Env, Tree \n",
    "from part1 import random_walls , rrt_expansion ,random_expansion\n",
    "import random\n",
    "from datetime import datetime, timedelta\n",
    "\n",
    "import matplotlib.pyplot as plt\n",
    "import numpy as np\n",
    "from matplotlib import collections as mc"
   ]
  },
  {
   "cell_type": "markdown",
   "metadata": {},
   "source": [
    "# <font color='red'><b>Partie I :<b></font> "
   ]
  },
  {
   "cell_type": "code",
   "execution_count": null,
   "metadata": {},
   "outputs": [],
   "source": [
    "random.seed(11)"
   ]
  },
  {
   "cell_type": "markdown",
   "metadata": {},
   "source": [
    "## 1- Comparaison quantitative des performances de l’exploration en evaluant a distance maximale \n",
    "\n"
   ]
  },
  {
   "cell_type": "code",
   "execution_count": null,
   "metadata": {},
   "outputs": [],
   "source": [
    "# this  function calculates the max distance from the origin for each tree\n",
    "def get_max_distance(t, env):\n",
    "    d = 0\n",
    "    for s in t.all_nodes:\n",
    "        d_tmp = Env.dist(t.state, s.state)\n",
    "        if d_tmp > d:\n",
    "            d = d_tmp\n",
    "    return d"
   ]
  },
  {
   "cell_type": "markdown",
   "metadata": {},
   "source": [
    "### a- Approche à nombre d’itérations constant :"
   ]
  },
  {
   "cell_type": "code",
   "execution_count": null,
   "metadata": {},
   "outputs": [],
   "source": [
    "# Initialisation\n",
    "env = Env()\n",
    "random_walls(env, 20)\n",
    "t_rand_expansion = Tree([-0.5, -0.5])\n",
    "t_rrt_expansion = Tree([-0.5, -0.5])\n",
    "fig, ax = plt.subplots()\n",
    "env.plotwalls(fig, ax)\n",
    "\n",
    "# Evaluation bases on constant number of itterations\n",
    "n = int(input(\"Enter num of iter :\"))\n",
    "for i in range(n + 1):\n",
    "    rrt_expansion(t_rrt_expansion, env)\n",
    "    random_expansion(t_rand_expansion, env)\n",
    "    \n",
    "t_rand_expansion.plot(fig, ax, \"Random expansion\")\n",
    "t_rrt_expansion.plot(fig, ax, \"RRT Expansion\")\n",
    "plt.legend()\n",
    "plt.show()"
   ]
  },
  {
   "cell_type": "code",
   "execution_count": null,
   "metadata": {},
   "outputs": [],
   "source": [
    "d_random_expansion = get_max_distance(t_rand_expansion, env)\n",
    "d_rrt_expansion = get_max_distance(t_rrt_expansion, env)\n",
    "print(\"Performance of random expansion : max distance = \", d_random_expansion)\n",
    "print(\"Performance of of rrt expansion : max distance = \", d_rrt_expansion)"
   ]
  },
  {
   "cell_type": "markdown",
   "metadata": {},
   "source": [
    "### b- Approche à temps de calcul constant :"
   ]
  },
  {
   "cell_type": "code",
   "execution_count": null,
   "metadata": {},
   "outputs": [],
   "source": [
    "# Evaluation bases on constant time execution\n",
    "\n",
    "del t_rand_expansion, t_rrt_expansion, fig, ax\n",
    "t_rand_expansion = Tree([-0.5, -0.5])\n",
    "t_rrt_expansion = Tree([-0.5, -0.5])\n",
    "fig, ax = plt.subplots()\n",
    "env.plotwalls(fig, ax)\n",
    "\n",
    "print(\"Evaluation bases on constant time execution\")\n",
    "Time = float(input(\"Enter the time in seconds : \"))\n",
    "print(\"Distance eval for\", Time, \"seconds\")\n",
    "\n",
    "end_time = datetime.now() + timedelta(seconds=Time)\n",
    "while datetime.now() < end_time:\n",
    "    rrt_expansion(t_rrt_expansion, env)\n",
    "\n",
    "end_time = datetime.now() + timedelta(seconds=Time)\n",
    "while datetime.now() < end_time:\n",
    "    random_expansion(t_rand_expansion, env)\n",
    "\n",
    "t_rand_expansion.plot(fig, ax, \"Random expansion\")\n",
    "t_rrt_expansion.plot(fig, ax, \"RRT Expansion\")\n",
    "plt.legend()\n",
    "plt.show()"
   ]
  },
  {
   "cell_type": "code",
   "execution_count": null,
   "metadata": {},
   "outputs": [],
   "source": [
    "d_random_expansion = get_max_distance(t_rand_expansion, env)\n",
    "d_rrt_expansion = get_max_distance(t_rrt_expansion, env)\n",
    "print(\"Performance of random expansion : max distance = \", d_random_expansion)\n",
    "print(\"Performance of of rrt expansion : max distance = \", d_rrt_expansion)"
   ]
  },
  {
   "cell_type": "markdown",
   "metadata": {},
   "source": [
    "## Interpretation :\n"
   ]
  },
  {
   "cell_type": "markdown",
   "metadata": {},
   "source": [
    "### 2- Étude l’impact du nombre de murs de l’environnement sur les performances d’exploration :"
   ]
  },
  {
   "cell_type": "markdown",
   "metadata": {},
   "source": [
    "### 3- Étude en incluant deux variantes de rrt_expansion() :"
   ]
  },
  {
   "cell_type": "code",
   "execution_count": null,
   "metadata": {},
   "outputs": [],
   "source": [
    "def rrt_expansion_var1(t, env):\n",
    "    sample = [random.uniform(-1.0, 1.0), random.uniform(-1.0, 1.0)]\n",
    "    nearest_neighbor = t\n",
    "    d = Env.dist(t.state, sample)\n",
    "    for s in t.all_nodes:  # Naive way to get the nearest neighbor\n",
    "        d_tmp = Env.dist(s.state, sample)\n",
    "        if d_tmp < d:\n",
    "            nearest_neighbor = s\n",
    "            d = d_tmp\n",
    "    new_state = env.step(nearest_neighbor.state, Env.random_action())\n",
    "    if new_state:\n",
    "        new_node = Tree(new_state, nearest_neighbor, False)\n",
    "        nearest_neighbor.successors.append(new_node)\n",
    "        t.all_nodes.append(new_node)\n",
    "\n",
    "\n",
    "def rrt_expansion_var2(t, env):\n",
    "    sample = [random.uniform(-1.0, 1.0), random.uniform(-1.0, 1.0)]\n",
    "    nearest_neighbor = t\n",
    "    d = Env.dist(t.state, sample)\n",
    "    for s in random.sample(t.all_nodes + [t], len(t.all_nodes) // 2 + 1):\n",
    "        d_tmp = Env.dist(s.state, sample)\n",
    "        if d_tmp < d:\n",
    "            nearest_neighbor = s\n",
    "            d = d_tmp\n",
    "    action = [np.clip(sample[0] - nearest_neighbor.state[0], -0.1, 0.1), np.clip(sample[1] - nearest_neighbor.state[1], -0.1, 0.1)]\n",
    "    new_state = env.step(nearest_neighbor.state, action)\n",
    "    if new_state:\n",
    "        new_node = Tree(new_state, nearest_neighbor, False)\n",
    "        nearest_neighbor.successors.append(new_node)\n",
    "        t.all_nodes.append(new_node)"
   ]
  },
  {
   "cell_type": "code",
   "execution_count": null,
   "metadata": {},
   "outputs": [],
   "source": [
    "# Evaluation of variantes of RRT implementaion :\n",
    "\n",
    "del t_rand_expansion, t_rrt_expansion, fig, ax, env\n",
    "env = Env()\n",
    "random_walls(env, 30)\n",
    "t_rrt_expansion_var1 = Tree([-0.5, -0.5])\n",
    "t_rrt_expansion_var2 = Tree([-0.5, -0.5])\n",
    "fig, ax = plt.subplots()\n",
    "env.plotwalls(fig, ax)\n",
    "\n",
    "print(\"Evaluation based on constant time execution of RRT variantes\")\n",
    "Time = float(input(\"Enter the time in seconds : \"))\n",
    "print(\"Distance eval for\", Time, \"seconds\")\n",
    "\n",
    "end_time = datetime.now() + timedelta(seconds=Time)\n",
    "while datetime.now() < end_time:\n",
    "    rrt_expansion_var1(t_rrt_expansion_var1, env)\n",
    "\n",
    "end_time = datetime.now() + timedelta(seconds=Time)\n",
    "while datetime.now() < end_time:\n",
    "    rrt_expansion_var2(t_rrt_expansion_var2, env)\n",
    "\n",
    "t_rrt_expansion_var1.plot(fig, ax, \"Variante 1\")\n",
    "t_rrt_expansion_var2.plot(fig, ax, \"Variante 2\")\n",
    "plt.legend()\n",
    "plt.show()"
   ]
  },
  {
   "cell_type": "code",
   "execution_count": null,
   "metadata": {},
   "outputs": [],
   "source": [
    "d_rrt_expansion_var1 = get_max_distance(t_rrt_expansion_var1, env)\n",
    "d_rrt_expansion_var2 = get_max_distance(t_rrt_expansion_var2, env)\n",
    "print(\"Performance of variante 1 : max distance = \", d_rrt_expansion_var1)\n",
    "print(\"Performance of variante 2 : max distance = \", d_rrt_expansion_var2)"
   ]
  },
  {
   "cell_type": "code",
   "execution_count": null,
   "metadata": {},
   "outputs": [],
   "source": [
    "del t_rand_expansion, t_rrt_expansion, fig, ax, env\n"
   ]
  },
  {
   "cell_type": "markdown",
   "metadata": {},
   "source": [
    "# <font color='red'><b>Partie II :<b></font> \n",
    "\n"
   ]
  },
  {
   "cell_type": "code",
   "execution_count": 16,
   "metadata": {},
   "outputs": [],
   "source": [
    "import numpy as np\n",
    "import sys\n",
    "import random\n",
    "import matplotlib.pyplot as plt\n",
    "from matplotlib import collections as mc"
   ]
  },
  {
   "cell_type": "code",
   "execution_count": 17,
   "metadata": {},
   "outputs": [],
   "source": [
    "from part2 import Env, Tree\n",
    "from part2 import random_walls, rrt_expansion, rrt_expansion_bounded"
   ]
  },
  {
   "cell_type": "code",
   "execution_count": 18,
   "metadata": {},
   "outputs": [],
   "source": [
    "random.seed(17)"
   ]
  },
  {
   "cell_type": "code",
   "execution_count": 19,
   "metadata": {},
   "outputs": [],
   "source": [
    "def get_angle(a, b):\n",
    "    return (np.arctan(b[1] - a[1] / b[0] - a[0]))"
   ]
  },
  {
   "cell_type": "code",
   "execution_count": 20,
   "metadata": {},
   "outputs": [
    {
     "data": {
      "image/png": "[encoded data removed]",
      "text/plain": [
       "<Figure size 432x288 with 1 Axes>"
      ]
     },
     "metadata": {
      "needs_background": "light"
     },
     "output_type": "display_data"
    }
   ],
   "source": [
    "env = Env()\n",
    "random_walls(env, 10)\n",
    "t = Tree([-0.5, -0.5], 0.0)\n",
    "fig, ax = plt.subplots()\n",
    "env.plotwalls(fig, ax)\n",
    "\n",
    "for i in range(500):\n",
    "    rrt_expansion_bounded(t, env)\n",
    "    \n",
    "t.plot(fig, ax)\n",
    "plt.show()"
   ]
  },
  {
   "cell_type": "markdown",
   "metadata": {},
   "source": [
    "### Interpretation :"
   ]
  },
  {
   "cell_type": "code",
   "execution_count": null,
   "metadata": {},
   "outputs": [],
   "source": []
  }
 ],
 "metadata": {
  "kernelspec": {
   "display_name": "Python 3",
   "language": "python",
   "name": "python3"
  },
  "language_info": {
   "codemirror_mode": {
    "name": "ipython",
    "version": 3
   },
   "file_extension": ".py",
   "mimetype": "text/x-python",
   "name": "python",
   "nbconvert_exporter": "python",
   "pygments_lexer": "ipython3",
   "version": "3.7.9"
  }
 },
 "nbformat": 4,
 "nbformat_minor": 2
}
